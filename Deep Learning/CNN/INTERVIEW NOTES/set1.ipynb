{
 "cells": [
  {
   "cell_type": "markdown",
   "metadata": {},
   "source": [
    "Q : What is CNN?\n",
    "Q : what is the color range of pixels? \n",
    "\n",
    "0 ==> Black\n",
    "255 ==> White\n",
    "\n",
    "Q : What is GrayScale image?\n",
    "Q : What is RGB image?\n",
    "\n",
    "Q : What is convolution and how does it help in detecting the edges?\n",
    "Q : Whaat is size of output after performing convolution?\n",
    "Q : What is a filter?\n",
    "Q : What is convolution layer?\n",
    "Q : Why do we apply Activation Function after convolution ?\n",
    "Q : What is Padding and strides?\n",
    "Q : What is max pooling, min pooling and mean pooling?\n",
    "Q :"
   ]
  },
  {
   "cell_type": "markdown",
   "metadata": {},
   "source": []
  }
 ],
 "metadata": {
  "kernelspec": {
   "display_name": "Python 3.8.10 64-bit",
   "language": "python",
   "name": "python3"
  },
  "language_info": {
   "name": "python",
   "version": "3.8.10"
  },
  "orig_nbformat": 4,
  "vscode": {
   "interpreter": {
    "hash": "e7370f93d1d0cde622a1f8e1c04877d8463912d04d973331ad4851f04de6915a"
   }
  }
 },
 "nbformat": 4,
 "nbformat_minor": 2
}
