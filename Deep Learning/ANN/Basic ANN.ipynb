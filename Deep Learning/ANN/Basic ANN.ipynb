{
 "cells": [
  {
   "cell_type": "code",
   "execution_count": 1,
   "metadata": {},
   "outputs": [
    {
     "name": "stderr",
     "output_type": "stream",
     "text": [
      "2023-03-21 14:38:42.926088: I tensorflow/core/platform/cpu_feature_guard.cc:193] This TensorFlow binary is optimized with oneAPI Deep Neural Network Library (oneDNN) to use the following CPU instructions in performance-critical operations:  AVX2 FMA\n",
      "To enable them in other operations, rebuild TensorFlow with the appropriate compiler flags.\n",
      "2023-03-21 14:38:43.101572: W tensorflow/compiler/xla/stream_executor/platform/default/dso_loader.cc:64] Could not load dynamic library 'libcudart.so.11.0'; dlerror: libcudart.so.11.0: cannot open shared object file: No such file or directory\n",
      "2023-03-21 14:38:43.101616: I tensorflow/compiler/xla/stream_executor/cuda/cudart_stub.cc:29] Ignore above cudart dlerror if you do not have a GPU set up on your machine.\n",
      "2023-03-21 14:38:44.083150: W tensorflow/compiler/xla/stream_executor/platform/default/dso_loader.cc:64] Could not load dynamic library 'libnvinfer.so.7'; dlerror: libnvinfer.so.7: cannot open shared object file: No such file or directory\n",
      "2023-03-21 14:38:44.083253: W tensorflow/compiler/xla/stream_executor/platform/default/dso_loader.cc:64] Could not load dynamic library 'libnvinfer_plugin.so.7'; dlerror: libnvinfer_plugin.so.7: cannot open shared object file: No such file or directory\n",
      "2023-03-21 14:38:44.083262: W tensorflow/compiler/tf2tensorrt/utils/py_utils.cc:38] TF-TRT Warning: Cannot dlopen some TensorRT libraries. If you would like to use Nvidia GPU with TensorRT, please make sure the missing libraries mentioned above are installed properly.\n"
     ]
    },
    {
     "name": "stdout",
     "output_type": "stream",
     "text": [
      "2.11.1\n"
     ]
    }
   ],
   "source": [
    "import tensorflow\n",
    "print(tensorflow.__version__)"
   ]
  },
  {
   "cell_type": "code",
   "execution_count": 2,
   "metadata": {},
   "outputs": [],
   "source": [
    "# importing libraries\n",
    "\n",
    "import pandas as pd\n",
    "import numpy as np\n",
    "import matplotlib.pyplot as plt"
   ]
  },
  {
   "cell_type": "code",
   "execution_count": 3,
   "metadata": {},
   "outputs": [
    {
     "name": "stderr",
     "output_type": "stream",
     "text": [
      "/tmp/ipykernel_1764/1931212346.py:2: DtypeWarning: Columns (81) have mixed types. Specify dtype option on import or set low_memory=False.\n",
      "  data = pd.read_csv(r\"/config/workspace/deep-learning/ANN/aps_data.csv\")\n"
     ]
    },
    {
     "data": {
      "text/html": [
       "<div>\n",
       "<style scoped>\n",
       "    .dataframe tbody tr th:only-of-type {\n",
       "        vertical-align: middle;\n",
       "    }\n",
       "\n",
       "    .dataframe tbody tr th {\n",
       "        vertical-align: top;\n",
       "    }\n",
       "\n",
       "    .dataframe thead th {\n",
       "        text-align: right;\n",
       "    }\n",
       "</style>\n",
       "<table border=\"1\" class=\"dataframe\">\n",
       "  <thead>\n",
       "    <tr style=\"text-align: right;\">\n",
       "      <th></th>\n",
       "      <th>class</th>\n",
       "      <th>aa_000</th>\n",
       "      <th>ab_000</th>\n",
       "      <th>ac_000</th>\n",
       "      <th>ad_000</th>\n",
       "      <th>ae_000</th>\n",
       "      <th>af_000</th>\n",
       "      <th>ag_000</th>\n",
       "      <th>ag_001</th>\n",
       "      <th>ag_002</th>\n",
       "      <th>...</th>\n",
       "      <th>ee_002</th>\n",
       "      <th>ee_003</th>\n",
       "      <th>ee_004</th>\n",
       "      <th>ee_005</th>\n",
       "      <th>ee_006</th>\n",
       "      <th>ee_007</th>\n",
       "      <th>ee_008</th>\n",
       "      <th>ee_009</th>\n",
       "      <th>ef_000</th>\n",
       "      <th>eg_000</th>\n",
       "    </tr>\n",
       "  </thead>\n",
       "  <tbody>\n",
       "    <tr>\n",
       "      <th>0</th>\n",
       "      <td>neg</td>\n",
       "      <td>6</td>\n",
       "      <td>0</td>\n",
       "      <td>0</td>\n",
       "      <td>0</td>\n",
       "      <td>0</td>\n",
       "      <td>0</td>\n",
       "      <td>0</td>\n",
       "      <td>0</td>\n",
       "      <td>0</td>\n",
       "      <td>...</td>\n",
       "      <td>26</td>\n",
       "      <td>8</td>\n",
       "      <td>26</td>\n",
       "      <td>52</td>\n",
       "      <td>0</td>\n",
       "      <td>0</td>\n",
       "      <td>0</td>\n",
       "      <td>0</td>\n",
       "      <td>0</td>\n",
       "      <td>0</td>\n",
       "    </tr>\n",
       "    <tr>\n",
       "      <th>1</th>\n",
       "      <td>neg</td>\n",
       "      <td>90</td>\n",
       "      <td>0</td>\n",
       "      <td>0</td>\n",
       "      <td>66</td>\n",
       "      <td>0</td>\n",
       "      <td>0</td>\n",
       "      <td>0</td>\n",
       "      <td>0</td>\n",
       "      <td>0</td>\n",
       "      <td>...</td>\n",
       "      <td>1268</td>\n",
       "      <td>526</td>\n",
       "      <td>554</td>\n",
       "      <td>300</td>\n",
       "      <td>118</td>\n",
       "      <td>260</td>\n",
       "      <td>0</td>\n",
       "      <td>0</td>\n",
       "      <td>0</td>\n",
       "      <td>0</td>\n",
       "    </tr>\n",
       "    <tr>\n",
       "      <th>2</th>\n",
       "      <td>neg</td>\n",
       "      <td>30</td>\n",
       "      <td>na</td>\n",
       "      <td>16</td>\n",
       "      <td>14</td>\n",
       "      <td>0</td>\n",
       "      <td>0</td>\n",
       "      <td>0</td>\n",
       "      <td>0</td>\n",
       "      <td>0</td>\n",
       "      <td>...</td>\n",
       "      <td>480</td>\n",
       "      <td>84</td>\n",
       "      <td>74</td>\n",
       "      <td>50</td>\n",
       "      <td>46</td>\n",
       "      <td>0</td>\n",
       "      <td>0</td>\n",
       "      <td>0</td>\n",
       "      <td>0</td>\n",
       "      <td>0</td>\n",
       "    </tr>\n",
       "    <tr>\n",
       "      <th>3</th>\n",
       "      <td>neg</td>\n",
       "      <td>444</td>\n",
       "      <td>na</td>\n",
       "      <td>14</td>\n",
       "      <td>12</td>\n",
       "      <td>0</td>\n",
       "      <td>0</td>\n",
       "      <td>0</td>\n",
       "      <td>0</td>\n",
       "      <td>0</td>\n",
       "      <td>...</td>\n",
       "      <td>1614</td>\n",
       "      <td>1144</td>\n",
       "      <td>3598</td>\n",
       "      <td>2460</td>\n",
       "      <td>1258</td>\n",
       "      <td>8524</td>\n",
       "      <td>110</td>\n",
       "      <td>0</td>\n",
       "      <td>0</td>\n",
       "      <td>0</td>\n",
       "    </tr>\n",
       "    <tr>\n",
       "      <th>4</th>\n",
       "      <td>neg</td>\n",
       "      <td>82</td>\n",
       "      <td>na</td>\n",
       "      <td>12</td>\n",
       "      <td>10</td>\n",
       "      <td>0</td>\n",
       "      <td>0</td>\n",
       "      <td>0</td>\n",
       "      <td>0</td>\n",
       "      <td>1464</td>\n",
       "      <td>...</td>\n",
       "      <td>1010</td>\n",
       "      <td>132</td>\n",
       "      <td>310</td>\n",
       "      <td>56</td>\n",
       "      <td>92</td>\n",
       "      <td>1292</td>\n",
       "      <td>0</td>\n",
       "      <td>0</td>\n",
       "      <td>0</td>\n",
       "      <td>0</td>\n",
       "    </tr>\n",
       "  </tbody>\n",
       "</table>\n",
       "<p>5 rows × 171 columns</p>\n",
       "</div>"
      ],
      "text/plain": [
       "  class  aa_000 ab_000 ac_000 ad_000 ae_000 af_000 ag_000 ag_001 ag_002  ...  \\\n",
       "0   neg       6      0      0      0      0      0      0      0      0  ...   \n",
       "1   neg      90      0      0     66      0      0      0      0      0  ...   \n",
       "2   neg      30     na     16     14      0      0      0      0      0  ...   \n",
       "3   neg     444     na     14     12      0      0      0      0      0  ...   \n",
       "4   neg      82     na     12     10      0      0      0      0   1464  ...   \n",
       "\n",
       "  ee_002 ee_003 ee_004 ee_005 ee_006 ee_007 ee_008 ee_009 ef_000 eg_000  \n",
       "0     26      8     26     52      0      0      0      0      0      0  \n",
       "1   1268    526    554    300    118    260      0      0      0      0  \n",
       "2    480     84     74     50     46      0      0      0      0      0  \n",
       "3   1614   1144   3598   2460   1258   8524    110      0      0      0  \n",
       "4   1010    132    310     56     92   1292      0      0      0      0  \n",
       "\n",
       "[5 rows x 171 columns]"
      ]
     },
     "execution_count": 3,
     "metadata": {},
     "output_type": "execute_result"
    }
   ],
   "source": [
    "# Reading Data\n",
    "data = pd.read_csv(r\"/config/workspace/deep-learning/ANN/aps_data.csv\")\n",
    "\n",
    "data.head()"
   ]
  },
  {
   "cell_type": "code",
   "execution_count": 4,
   "metadata": {},
   "outputs": [
    {
     "data": {
      "text/plain": [
       "(5000, 171)"
      ]
     },
     "execution_count": 4,
     "metadata": {},
     "output_type": "execute_result"
    }
   ],
   "source": [
    "data.shape"
   ]
  },
  {
   "cell_type": "code",
   "execution_count": 5,
   "metadata": {},
   "outputs": [
    {
     "name": "stdout",
     "output_type": "stream",
     "text": [
      "0\n",
      "0\n"
     ]
    }
   ],
   "source": [
    "# checking for null values\n",
    "print(data.isnull().sum().sum())\n",
    "print(data.isna().sum().sum())"
   ]
  },
  {
   "cell_type": "code",
   "execution_count": 6,
   "metadata": {},
   "outputs": [
    {
     "data": {
      "text/plain": [
       "71649"
      ]
     },
     "execution_count": 6,
     "metadata": {},
     "output_type": "execute_result"
    }
   ],
   "source": [
    "# replace 'na' with np.nan and look into total number of null values\n",
    "data = data.replace(\"na\",np.nan)\n",
    "data.isnull().sum().sum()"
   ]
  },
  {
   "cell_type": "code",
   "execution_count": 7,
   "metadata": {},
   "outputs": [
    {
     "data": {
      "text/html": [
       "<div>\n",
       "<style scoped>\n",
       "    .dataframe tbody tr th:only-of-type {\n",
       "        vertical-align: middle;\n",
       "    }\n",
       "\n",
       "    .dataframe tbody tr th {\n",
       "        vertical-align: top;\n",
       "    }\n",
       "\n",
       "    .dataframe thead th {\n",
       "        text-align: right;\n",
       "    }\n",
       "</style>\n",
       "<table border=\"1\" class=\"dataframe\">\n",
       "  <thead>\n",
       "    <tr style=\"text-align: right;\">\n",
       "      <th></th>\n",
       "      <th>null_counts</th>\n",
       "    </tr>\n",
       "  </thead>\n",
       "  <tbody>\n",
       "    <tr>\n",
       "      <th>br_000</th>\n",
       "      <td>4105</td>\n",
       "    </tr>\n",
       "    <tr>\n",
       "      <th>bq_000</th>\n",
       "      <td>4043</td>\n",
       "    </tr>\n",
       "    <tr>\n",
       "      <th>bp_000</th>\n",
       "      <td>3960</td>\n",
       "    </tr>\n",
       "    <tr>\n",
       "      <th>ab_000</th>\n",
       "      <td>3849</td>\n",
       "    </tr>\n",
       "    <tr>\n",
       "      <th>cr_000</th>\n",
       "      <td>3849</td>\n",
       "    </tr>\n",
       "    <tr>\n",
       "      <th>...</th>\n",
       "      <td>...</td>\n",
       "    </tr>\n",
       "    <tr>\n",
       "      <th>cj_000</th>\n",
       "      <td>38</td>\n",
       "    </tr>\n",
       "    <tr>\n",
       "      <th>ci_000</th>\n",
       "      <td>38</td>\n",
       "    </tr>\n",
       "    <tr>\n",
       "      <th>bt_000</th>\n",
       "      <td>12</td>\n",
       "    </tr>\n",
       "    <tr>\n",
       "      <th>aa_000</th>\n",
       "      <td>0</td>\n",
       "    </tr>\n",
       "    <tr>\n",
       "      <th>class</th>\n",
       "      <td>0</td>\n",
       "    </tr>\n",
       "  </tbody>\n",
       "</table>\n",
       "<p>171 rows × 1 columns</p>\n",
       "</div>"
      ],
      "text/plain": [
       "        null_counts\n",
       "br_000         4105\n",
       "bq_000         4043\n",
       "bp_000         3960\n",
       "ab_000         3849\n",
       "cr_000         3849\n",
       "...             ...\n",
       "cj_000           38\n",
       "ci_000           38\n",
       "bt_000           12\n",
       "aa_000            0\n",
       "class             0\n",
       "\n",
       "[171 rows x 1 columns]"
      ]
     },
     "execution_count": 7,
     "metadata": {},
     "output_type": "execute_result"
    }
   ],
   "source": [
    "# getiing null counts in each column\n",
    "pd.DataFrame(data.isnull().sum().sort_values(ascending=False)).rename(columns={0:'null_counts'})"
   ]
  },
  {
   "cell_type": "code",
   "execution_count": 8,
   "metadata": {},
   "outputs": [],
   "source": [
    "# perform median imputation for every feature in data except `class` column\n",
    "for feature in [feature for feature in data.columns if feature not in ['class']]:\n",
    "    data[feature]=data[feature].fillna(data[feature].median())"
   ]
  },
  {
   "cell_type": "code",
   "execution_count": 9,
   "metadata": {},
   "outputs": [
    {
     "data": {
      "text/plain": [
       "0"
      ]
     },
     "execution_count": 9,
     "metadata": {},
     "output_type": "execute_result"
    }
   ],
   "source": [
    "# checking for null values after performing median imputation\n",
    "data.isnull().sum().sum()"
   ]
  },
  {
   "cell_type": "code",
   "execution_count": 10,
   "metadata": {},
   "outputs": [],
   "source": [
    "x = data.drop('class',axis=1)\n",
    "y = data['class']"
   ]
  },
  {
   "cell_type": "code",
   "execution_count": 11,
   "metadata": {},
   "outputs": [
    {
     "name": "stdout",
     "output_type": "stream",
     "text": [
      "<class 'pandas.core.frame.DataFrame'>\n",
      "RangeIndex: 5000 entries, 0 to 4999\n",
      "Data columns (total 170 columns):\n",
      " #    Column  Non-Null Count  Dtype \n",
      "---   ------  --------------  ----- \n",
      " 0    aa_000  5000 non-null   int64 \n",
      " 1    ab_000  5000 non-null   object\n",
      " 2    ac_000  5000 non-null   object\n",
      " 3    ad_000  5000 non-null   object\n",
      " 4    ae_000  5000 non-null   object\n",
      " 5    af_000  5000 non-null   object\n",
      " 6    ag_000  5000 non-null   object\n",
      " 7    ag_001  5000 non-null   object\n",
      " 8    ag_002  5000 non-null   object\n",
      " 9    ag_003  5000 non-null   object\n",
      " 10   ag_004  5000 non-null   object\n",
      " 11   ag_005  5000 non-null   object\n",
      " 12   ag_006  5000 non-null   object\n",
      " 13   ag_007  5000 non-null   object\n",
      " 14   ag_008  5000 non-null   object\n",
      " 15   ag_009  5000 non-null   object\n",
      " 16   ah_000  5000 non-null   object\n",
      " 17   ai_000  5000 non-null   object\n",
      " 18   aj_000  5000 non-null   object\n",
      " 19   ak_000  5000 non-null   object\n",
      " 20   al_000  5000 non-null   object\n",
      " 21   am_0    5000 non-null   object\n",
      " 22   an_000  5000 non-null   object\n",
      " 23   ao_000  5000 non-null   object\n",
      " 24   ap_000  5000 non-null   object\n",
      " 25   aq_000  5000 non-null   object\n",
      " 26   ar_000  5000 non-null   object\n",
      " 27   as_000  5000 non-null   object\n",
      " 28   at_000  5000 non-null   object\n",
      " 29   au_000  5000 non-null   object\n",
      " 30   av_000  5000 non-null   object\n",
      " 31   ax_000  5000 non-null   object\n",
      " 32   ay_000  5000 non-null   object\n",
      " 33   ay_001  5000 non-null   object\n",
      " 34   ay_002  5000 non-null   object\n",
      " 35   ay_003  5000 non-null   object\n",
      " 36   ay_004  5000 non-null   object\n",
      " 37   ay_005  5000 non-null   object\n",
      " 38   ay_006  5000 non-null   object\n",
      " 39   ay_007  5000 non-null   object\n",
      " 40   ay_008  5000 non-null   object\n",
      " 41   ay_009  5000 non-null   object\n",
      " 42   az_000  5000 non-null   object\n",
      " 43   az_001  5000 non-null   object\n",
      " 44   az_002  5000 non-null   object\n",
      " 45   az_003  5000 non-null   object\n",
      " 46   az_004  5000 non-null   object\n",
      " 47   az_005  5000 non-null   object\n",
      " 48   az_006  5000 non-null   object\n",
      " 49   az_007  5000 non-null   object\n",
      " 50   az_008  5000 non-null   object\n",
      " 51   az_009  5000 non-null   object\n",
      " 52   ba_000  5000 non-null   object\n",
      " 53   ba_001  5000 non-null   object\n",
      " 54   ba_002  5000 non-null   object\n",
      " 55   ba_003  5000 non-null   object\n",
      " 56   ba_004  5000 non-null   object\n",
      " 57   ba_005  5000 non-null   object\n",
      " 58   ba_006  5000 non-null   object\n",
      " 59   ba_007  5000 non-null   object\n",
      " 60   ba_008  5000 non-null   object\n",
      " 61   ba_009  5000 non-null   object\n",
      " 62   bb_000  5000 non-null   object\n",
      " 63   bc_000  5000 non-null   object\n",
      " 64   bd_000  5000 non-null   object\n",
      " 65   be_000  5000 non-null   object\n",
      " 66   bf_000  5000 non-null   object\n",
      " 67   bg_000  5000 non-null   object\n",
      " 68   bh_000  5000 non-null   object\n",
      " 69   bi_000  5000 non-null   object\n",
      " 70   bj_000  5000 non-null   object\n",
      " 71   bk_000  5000 non-null   object\n",
      " 72   bl_000  5000 non-null   object\n",
      " 73   bm_000  5000 non-null   object\n",
      " 74   bn_000  5000 non-null   object\n",
      " 75   bo_000  5000 non-null   object\n",
      " 76   bp_000  5000 non-null   object\n",
      " 77   bq_000  5000 non-null   object\n",
      " 78   br_000  5000 non-null   object\n",
      " 79   bs_000  5000 non-null   object\n",
      " 80   bt_000  5000 non-null   object\n",
      " 81   bu_000  5000 non-null   object\n",
      " 82   bv_000  5000 non-null   object\n",
      " 83   bx_000  5000 non-null   object\n",
      " 84   by_000  5000 non-null   object\n",
      " 85   bz_000  5000 non-null   object\n",
      " 86   ca_000  5000 non-null   object\n",
      " 87   cb_000  5000 non-null   object\n",
      " 88   cc_000  5000 non-null   object\n",
      " 89   cd_000  5000 non-null   object\n",
      " 90   ce_000  5000 non-null   object\n",
      " 91   cf_000  5000 non-null   object\n",
      " 92   cg_000  5000 non-null   object\n",
      " 93   ch_000  5000 non-null   object\n",
      " 94   ci_000  5000 non-null   object\n",
      " 95   cj_000  5000 non-null   object\n",
      " 96   ck_000  5000 non-null   object\n",
      " 97   cl_000  5000 non-null   object\n",
      " 98   cm_000  5000 non-null   object\n",
      " 99   cn_000  5000 non-null   object\n",
      " 100  cn_001  5000 non-null   object\n",
      " 101  cn_002  5000 non-null   object\n",
      " 102  cn_003  5000 non-null   object\n",
      " 103  cn_004  5000 non-null   object\n",
      " 104  cn_005  5000 non-null   object\n",
      " 105  cn_006  5000 non-null   object\n",
      " 106  cn_007  5000 non-null   object\n",
      " 107  cn_008  5000 non-null   object\n",
      " 108  cn_009  5000 non-null   object\n",
      " 109  co_000  5000 non-null   object\n",
      " 110  cp_000  5000 non-null   object\n",
      " 111  cq_000  5000 non-null   object\n",
      " 112  cr_000  5000 non-null   object\n",
      " 113  cs_000  5000 non-null   object\n",
      " 114  cs_001  5000 non-null   object\n",
      " 115  cs_002  5000 non-null   object\n",
      " 116  cs_003  5000 non-null   object\n",
      " 117  cs_004  5000 non-null   object\n",
      " 118  cs_005  5000 non-null   object\n",
      " 119  cs_006  5000 non-null   object\n",
      " 120  cs_007  5000 non-null   object\n",
      " 121  cs_008  5000 non-null   object\n",
      " 122  cs_009  5000 non-null   object\n",
      " 123  ct_000  5000 non-null   object\n",
      " 124  cu_000  5000 non-null   object\n",
      " 125  cv_000  5000 non-null   object\n",
      " 126  cx_000  5000 non-null   object\n",
      " 127  cy_000  5000 non-null   object\n",
      " 128  cz_000  5000 non-null   object\n",
      " 129  da_000  5000 non-null   object\n",
      " 130  db_000  5000 non-null   object\n",
      " 131  dc_000  5000 non-null   object\n",
      " 132  dd_000  5000 non-null   object\n",
      " 133  de_000  5000 non-null   object\n",
      " 134  df_000  5000 non-null   object\n",
      " 135  dg_000  5000 non-null   object\n",
      " 136  dh_000  5000 non-null   object\n",
      " 137  di_000  5000 non-null   object\n",
      " 138  dj_000  5000 non-null   object\n",
      " 139  dk_000  5000 non-null   object\n",
      " 140  dl_000  5000 non-null   object\n",
      " 141  dm_000  5000 non-null   object\n",
      " 142  dn_000  5000 non-null   object\n",
      " 143  do_000  5000 non-null   object\n",
      " 144  dp_000  5000 non-null   object\n",
      " 145  dq_000  5000 non-null   object\n",
      " 146  dr_000  5000 non-null   object\n",
      " 147  ds_000  5000 non-null   object\n",
      " 148  dt_000  5000 non-null   object\n",
      " 149  du_000  5000 non-null   object\n",
      " 150  dv_000  5000 non-null   object\n",
      " 151  dx_000  5000 non-null   object\n",
      " 152  dy_000  5000 non-null   object\n",
      " 153  dz_000  5000 non-null   object\n",
      " 154  ea_000  5000 non-null   object\n",
      " 155  eb_000  5000 non-null   object\n",
      " 156  ec_00   5000 non-null   object\n",
      " 157  ed_000  5000 non-null   object\n",
      " 158  ee_000  5000 non-null   object\n",
      " 159  ee_001  5000 non-null   object\n",
      " 160  ee_002  5000 non-null   object\n",
      " 161  ee_003  5000 non-null   object\n",
      " 162  ee_004  5000 non-null   object\n",
      " 163  ee_005  5000 non-null   object\n",
      " 164  ee_006  5000 non-null   object\n",
      " 165  ee_007  5000 non-null   object\n",
      " 166  ee_008  5000 non-null   object\n",
      " 167  ee_009  5000 non-null   object\n",
      " 168  ef_000  5000 non-null   object\n",
      " 169  eg_000  5000 non-null   object\n",
      "dtypes: int64(1), object(169)\n",
      "memory usage: 6.5+ MB\n"
     ]
    }
   ],
   "source": [
    "x.info(verbose=True,show_counts=True)"
   ]
  },
  {
   "cell_type": "code",
   "execution_count": 12,
   "metadata": {},
   "outputs": [],
   "source": [
    "'''\n",
    "encode the target column.\n",
    "\n",
    "0: Negative (Damage is not caused due to fault in aps system)\n",
    "1: Positive (Damage is caused due to fault in aps system)\n",
    "'''\n",
    "y = pd.get_dummies(y,drop_first=True)"
   ]
  },
  {
   "cell_type": "code",
   "execution_count": 14,
   "metadata": {},
   "outputs": [],
   "source": [
    "# splitting data into train and test data\n",
    "from sklearn.model_selection import train_test_split\n",
    "x_train,x_test,y_train,y_test = train_test_split(x,y,test_size=0.3,random_state = 0)"
   ]
  },
  {
   "cell_type": "code",
   "execution_count": 20,
   "metadata": {},
   "outputs": [],
   "source": [
    "from sklearn.preprocessing import StandardScaler\n",
    "scaler = StandardScaler()\n",
    "x_train = scaler.fit_transform(x_train)\n",
    "x_test = scaler.transform(x_test)"
   ]
  },
  {
   "cell_type": "code",
   "execution_count": 85,
   "metadata": {},
   "outputs": [],
   "source": [
    "import tensorflow.keras\n",
    "from tensorflow.keras.models import Sequential\n",
    "from tensorflow.keras.layers import Dense,Dropout\n",
    "from tensorflow.keras import optimizers"
   ]
  },
  {
   "cell_type": "markdown",
   "metadata": {},
   "source": [
    "# Lets Implement Classification using ANN\n",
    "\n",
    "```\n",
    "First call Sequential() object\n",
    "add dense objects using add() of the sequential object\n",
    "\n",
    "call compile function of sequential object by providing necessary info\n",
    "\n",
    "Now we can take look at model summary\n",
    "\n",
    "train the model\n",
    "```"
   ]
  },
  {
   "cell_type": "code",
   "execution_count": 99,
   "metadata": {},
   "outputs": [],
   "source": [
    "classifier = Sequential()\n",
    "\n",
    "'''\n",
    "adding both input layer and hidden layer 1 at once\n",
    "we can add it seperately\n",
    "\n",
    "units: no.of neurons in a layer\n",
    "input_dim = no. of input features\n",
    "'''\n",
    "classifier.add(Dense(units=10, kernel_initializer='he_uniform',activation='relu',input_dim=170))\n",
    "\n",
    "# adding hidden layer 2\n",
    "classifier.add(Dense(units=10,kernel_initializer='he_uniform',activation='relu'))\n",
    "\n",
    "# adding output layer\n",
    "classifier.add(Dense(units=1,kernel_initializer='glorot_uniform',activation='sigmoid'))"
   ]
  },
  {
   "cell_type": "code",
   "execution_count": 100,
   "metadata": {},
   "outputs": [],
   "source": [
    "classifier.compile(optimizer='adam',loss='binary_crossentropy',metrics=['accuracy'])"
   ]
  },
  {
   "cell_type": "code",
   "execution_count": 101,
   "metadata": {},
   "outputs": [
    {
     "name": "stdout",
     "output_type": "stream",
     "text": [
      "Model: \"sequential_1\"\n",
      "_________________________________________________________________\n",
      " Layer (type)                Output Shape              Param #   \n",
      "=================================================================\n",
      " dense_10 (Dense)            (None, 10)                1710      \n",
      "                                                                 \n",
      " dense_11 (Dense)            (None, 10)                110       \n",
      "                                                                 \n",
      " dense_12 (Dense)            (None, 1)                 11        \n",
      "                                                                 \n",
      "=================================================================\n",
      "Total params: 1,831\n",
      "Trainable params: 1,831\n",
      "Non-trainable params: 0\n",
      "_________________________________________________________________\n"
     ]
    }
   ],
   "source": [
    "'''\n",
    "no of neurons in i/p layer =170\n",
    "no. of neurons in hidden layer1 = 10\n",
    "\n",
    "(no.of i/p neurons * no.of HL neurons) + no. of biases in HL layer\n",
    "(170*10)+ 10 (10 for biases) = 1710  parameters\n",
    "\n",
    "'''\n",
    "classifier.summary()"
   ]
  },
  {
   "cell_type": "code",
   "execution_count": 102,
   "metadata": {},
   "outputs": [
    {
     "name": "stdout",
     "output_type": "stream",
     "text": [
      "Epoch 1/20\n",
      "263/263 [==============================] - 4s 7ms/step - loss: 0.4255 - accuracy: 0.9013 - val_loss: 0.1330 - val_accuracy: 0.9783\n",
      "Epoch 2/20\n",
      "263/263 [==============================] - 1s 5ms/step - loss: 0.0998 - accuracy: 0.9790 - val_loss: 0.0803 - val_accuracy: 0.9794\n",
      "Epoch 3/20\n",
      "263/263 [==============================] - 1s 5ms/step - loss: 0.0572 - accuracy: 0.9859 - val_loss: 0.0638 - val_accuracy: 0.9817\n",
      "Epoch 4/20\n",
      "263/263 [==============================] - 1s 5ms/step - loss: 0.0403 - accuracy: 0.9878 - val_loss: 0.0620 - val_accuracy: 0.9851\n",
      "Epoch 5/20\n",
      "263/263 [==============================] - 1s 5ms/step - loss: 0.0302 - accuracy: 0.9897 - val_loss: 0.0685 - val_accuracy: 0.9794\n",
      "Epoch 6/20\n",
      "263/263 [==============================] - 1s 5ms/step - loss: 0.0243 - accuracy: 0.9935 - val_loss: 0.0735 - val_accuracy: 0.9806\n",
      "Epoch 7/20\n",
      "263/263 [==============================] - 1s 5ms/step - loss: 0.0221 - accuracy: 0.9931 - val_loss: 0.0617 - val_accuracy: 0.9817\n",
      "Epoch 8/20\n",
      "263/263 [==============================] - 1s 5ms/step - loss: 0.0186 - accuracy: 0.9928 - val_loss: 0.0653 - val_accuracy: 0.9829\n",
      "Epoch 9/20\n",
      "263/263 [==============================] - 1s 6ms/step - loss: 0.0155 - accuracy: 0.9943 - val_loss: 0.0660 - val_accuracy: 0.9840\n",
      "Epoch 10/20\n",
      "263/263 [==============================] - 1s 5ms/step - loss: 0.0125 - accuracy: 0.9962 - val_loss: 0.0680 - val_accuracy: 0.9851\n",
      "Epoch 11/20\n",
      "263/263 [==============================] - 1s 5ms/step - loss: 0.0108 - accuracy: 0.9958 - val_loss: 0.0684 - val_accuracy: 0.9829\n",
      "Epoch 12/20\n",
      "263/263 [==============================] - 1s 5ms/step - loss: 0.0100 - accuracy: 0.9966 - val_loss: 0.0820 - val_accuracy: 0.9840\n",
      "Epoch 13/20\n",
      "263/263 [==============================] - 1s 5ms/step - loss: 0.0132 - accuracy: 0.9958 - val_loss: 0.0772 - val_accuracy: 0.9829\n",
      "Epoch 14/20\n",
      "263/263 [==============================] - 1s 5ms/step - loss: 0.0092 - accuracy: 0.9966 - val_loss: 0.0742 - val_accuracy: 0.9851\n",
      "Epoch 15/20\n",
      "263/263 [==============================] - 1s 5ms/step - loss: 0.0076 - accuracy: 0.9962 - val_loss: 0.0740 - val_accuracy: 0.9851\n",
      "Epoch 16/20\n",
      "263/263 [==============================] - 1s 5ms/step - loss: 0.0067 - accuracy: 0.9973 - val_loss: 0.0747 - val_accuracy: 0.9840\n",
      "Epoch 17/20\n",
      "263/263 [==============================] - 1s 5ms/step - loss: 0.0066 - accuracy: 0.9970 - val_loss: 0.0844 - val_accuracy: 0.9817\n",
      "Epoch 18/20\n",
      "263/263 [==============================] - 1s 5ms/step - loss: 0.0056 - accuracy: 0.9981 - val_loss: 0.0928 - val_accuracy: 0.9829\n",
      "Epoch 19/20\n",
      "263/263 [==============================] - 1s 5ms/step - loss: 0.0052 - accuracy: 0.9981 - val_loss: 0.0833 - val_accuracy: 0.9840\n",
      "Epoch 20/20\n",
      "263/263 [==============================] - 1s 5ms/step - loss: 0.0059 - accuracy: 0.9973 - val_loss: 0.1129 - val_accuracy: 0.9829\n"
     ]
    }
   ],
   "source": [
    "trained_model = classifier.fit(x_train,y_train,batch_size=10,epochs=20,validation_split=0.25)"
   ]
  },
  {
   "cell_type": "code",
   "execution_count": 103,
   "metadata": {},
   "outputs": [
    {
     "data": {
      "text/plain": [
       "dict_keys(['loss', 'accuracy', 'val_loss', 'val_accuracy'])"
      ]
     },
     "execution_count": 103,
     "metadata": {},
     "output_type": "execute_result"
    }
   ],
   "source": [
    "trained_model.history.keys()"
   ]
  },
  {
   "cell_type": "code",
   "execution_count": 104,
   "metadata": {},
   "outputs": [
    {
     "data": {
      "image/png": "[encoded data removed]",
      "text/plain": [
       "<Figure size 640x480 with 1 Axes>"
      ]
     },
     "metadata": {},
     "output_type": "display_data"
    }
   ],
   "source": [
    "plt.plot(trained_model.history['accuracy'])\n",
    "plt.plot(trained_model.history['val_accuracy'])\n",
    "\n",
    "plt.title('model accuracy')\n",
    "plt.ylabel('accuracy')\n",
    "plt.xlabel('epoch')\n",
    "plt.legend(['train','validation'],loc='upper right')\n",
    "plt.show()"
   ]
  },
  {
   "cell_type": "code",
   "execution_count": 105,
   "metadata": {},
   "outputs": [],
   "source": [
    "import time\n",
    "import os\n",
    "def save_model(model_dir=\"saved_models\"):\n",
    "    os.makedirs(model_dir,exist_ok=True)\n",
    "    filename = time.strftime(\"Model_%Y_&m_%d_%H_%M_%S_.h5\")\n",
    "    model_path = os.path.join(model_dir,filename)\n",
    "    return model_path"
   ]
  },
  {
   "cell_type": "code",
   "execution_count": 106,
   "metadata": {},
   "outputs": [],
   "source": [
    "classifier.save(save_model())"
   ]
  },
  {
   "cell_type": "code",
   "execution_count": 34,
   "metadata": {},
   "outputs": [
    {
     "name": "stdout",
     "output_type": "stream",
     "text": [
      "47/47 [==============================] - 0s 3ms/step\n"
     ]
    }
   ],
   "source": [
    "y_pred = classifier.predict(x_test)\n",
    "\n",
    "y_pred = y_pred > 0.5"
   ]
  },
  {
   "cell_type": "code",
   "execution_count": 35,
   "metadata": {},
   "outputs": [
    {
     "data": {
      "text/plain": [
       "array([[1468,    9],\n",
       "       [  10,   13]])"
      ]
     },
     "execution_count": 35,
     "metadata": {},
     "output_type": "execute_result"
    }
   ],
   "source": [
    "from sklearn.metrics import confusion_matrix\n",
    "\n",
    "confusion_matrix(y_test,y_pred)"
   ]
  },
  {
   "cell_type": "markdown",
   "metadata": {},
   "source": [
    "# Lets learn HyperParameter Tuning"
   ]
  },
  {
   "cell_type": "code",
   "execution_count": 62,
   "metadata": {},
   "outputs": [],
   "source": [
    "# !pip install keras-tuner --upgrade\n",
    "\n",
    "from kerastuner.tuners import RandomSearch"
   ]
  },
  {
   "cell_type": "code",
   "execution_count": 69,
   "metadata": {},
   "outputs": [],
   "source": [
    "def build_model(hp):\n",
    "  # hp is hyper parameter\n",
    "  classifier = Sequential()\n",
    "  classifier.add(Dense(units=32, kernel_initializer='he_uniform',activation='relu',input_dim=170))\n",
    "  classifier.add(Dense(units=32,kernel_initializer='he_uniform',activation='relu'))\n",
    "  classifier.add(Dense(units=1,kernel_initializer='glorot_uniform',activation='sigmoid'))\n",
    "\n",
    "  optimizer = hp.Choice('optimizer',values=['adam','sgd','adadelta','rmsprop'])\n",
    "\n",
    "  classifier.compile(optimizer=optimizer,loss='binary_crossentropy',metrics=['accuracy'])\n",
    "  return classifier"
   ]
  },
  {
   "cell_type": "code",
   "execution_count": 70,
   "metadata": {},
   "outputs": [
    {
     "name": "stdout",
     "output_type": "stream",
     "text": [
      "Trial 4 Complete [00h 00m 07s]\n",
      "val_accuracy: 0.7319999933242798\n",
      "\n",
      "Best val_accuracy So Far: 0.9893333315849304\n",
      "Total elapsed time: 00h 00m 24s\n",
      "INFO:tensorflow:Oracle triggered exit\n"
     ]
    }
   ],
   "source": [
    "tuner = RandomSearch(build_model,objective='val_accuracy',max_trials=5,directory='project',project_name='aps-fault')\n",
    "tuner.search(x_train,y_train,validation_data=(x_test,y_test),epochs=5)"
   ]
  },
  {
   "cell_type": "code",
   "execution_count": 78,
   "metadata": {},
   "outputs": [
    {
     "data": {
      "text/plain": [
       "{'optimizer': 'sgd'}"
      ]
     },
     "execution_count": 78,
     "metadata": {},
     "output_type": "execute_result"
    }
   ],
   "source": [
    "tuner.get_best_hyperparameters()[0].values"
   ]
  },
  {
   "cell_type": "code",
   "execution_count": 80,
   "metadata": {},
   "outputs": [
    {
     "name": "stdout",
     "output_type": "stream",
     "text": [
      "Model: \"sequential\"\n",
      "_________________________________________________________________\n",
      " Layer (type)                Output Shape              Param #   \n",
      "=================================================================\n",
      " dense (Dense)               (None, 32)                5472      \n",
      "                                                                 \n",
      " dense_1 (Dense)             (None, 32)                1056      \n",
      "                                                                 \n",
      " dense_2 (Dense)             (None, 1)                 33        \n",
      "                                                                 \n",
      "=================================================================\n",
      "Total params: 6,561\n",
      "Trainable params: 6,561\n",
      "Non-trainable params: 0\n",
      "_________________________________________________________________\n"
     ]
    }
   ],
   "source": [
    "model = tuner.get_best_models(num_models=1)[0]\n",
    "model.summary()"
   ]
  },
  {
   "cell_type": "code",
   "execution_count": 86,
   "metadata": {},
   "outputs": [],
   "source": [
    "def build_model(hp):\n",
    "    model = Sequential()\n",
    "    # Tune the number of layers.\n",
    "    for i in range(hp.Int(\"num_layers\", 2,10)):\n",
    "        model.add(\n",
    "            Dense(\n",
    "                # Tune number of units separately.\n",
    "                units=hp.Int(f\"units_{i}\", min_value=32, max_value=512, step=32),\n",
    "                activation=hp.Choice(\"activation\", [\"relu\", \"tanh\"]),\n",
    "            )\n",
    "        )\n",
    "    model.add(Dense(1, activation=\"sigmoid\"))\n",
    "    learning_rate = hp.Float(\"lr\", min_value=1e-4, max_value=1e-2, sampling=\"log\")\n",
    "    model.compile(\n",
    "        optimizer=optimizers.Adam(learning_rate=learning_rate),\n",
    "        loss=\"binary_crossentropy\",\n",
    "        metrics=[\"accuracy\"],\n",
    "    )\n",
    "    return model"
   ]
  },
  {
   "cell_type": "code",
   "execution_count": 95,
   "metadata": {},
   "outputs": [
    {
     "name": "stdout",
     "output_type": "stream",
     "text": [
      "Trial 5 Complete [00h 00m 14s]\n",
      "val_accuracy: 0.987333357334137\n",
      "\n",
      "Best val_accuracy So Far: 0.987333357334137\n",
      "Total elapsed time: 00h 01m 05s\n",
      "INFO:tensorflow:Oracle triggered exit\n"
     ]
    }
   ],
   "source": [
    "tuner1 = RandomSearch(build_model,objective='val_accuracy',max_trials=5,directory='project2',project_name='aps-fault')\n",
    "tuner1.search(x_train,y_train,validation_data=(x_test,y_test),epochs=5)"
   ]
  },
  {
   "cell_type": "code",
   "execution_count": 96,
   "metadata": {},
   "outputs": [
    {
     "data": {
      "text/plain": [
       "{'num_layers': 9,\n",
       " 'units_0': 512,\n",
       " 'activation': 'tanh',\n",
       " 'units_1': 128,\n",
       " 'lr': 0.0005247836867109325,\n",
       " 'units_2': 416,\n",
       " 'units_3': 256,\n",
       " 'units_4': 32,\n",
       " 'units_5': 288,\n",
       " 'units_6': 128,\n",
       " 'units_7': 512,\n",
       " 'units_8': 64,\n",
       " 'units_9': 448}"
      ]
     },
     "execution_count": 96,
     "metadata": {},
     "output_type": "execute_result"
    }
   ],
   "source": [
    "tuner1.get_best_hyperparameters()[0].values"
   ]
  },
  {
   "cell_type": "code",
   "execution_count": 97,
   "metadata": {},
   "outputs": [
    {
     "ename": "ValueError",
     "evalue": "This model has not yet been built. Build the model first by calling `build()` or by calling the model on a batch of data.",
     "output_type": "error",
     "traceback": [
      "\u001b[0;31m---------------------------------------------------------------------------\u001b[0m",
      "\u001b[0;31mValueError\u001b[0m                                Traceback (most recent call last)",
      "Cell \u001b[0;32mIn[97], line 2\u001b[0m\n\u001b[1;32m      1\u001b[0m model1 \u001b[38;5;241m=\u001b[39m tuner1\u001b[38;5;241m.\u001b[39mget_best_models(num_models\u001b[38;5;241m=\u001b[39m\u001b[38;5;241m1\u001b[39m)[\u001b[38;5;241m0\u001b[39m]\n\u001b[0;32m----> 2\u001b[0m \u001b[43mmodel1\u001b[49m\u001b[38;5;241;43m.\u001b[39;49m\u001b[43msummary\u001b[49m\u001b[43m(\u001b[49m\u001b[43m)\u001b[49m\n",
      "File \u001b[0;32m~/.local/lib/python3.8/site-packages/keras/engine/training.py:3292\u001b[0m, in \u001b[0;36mModel.summary\u001b[0;34m(self, line_length, positions, print_fn, expand_nested, show_trainable, layer_range)\u001b[0m\n\u001b[1;32m   3262\u001b[0m \u001b[39m\u001b[39m\u001b[39m\"\"\"Prints a string summary of the network.\u001b[39;00m\n\u001b[1;32m   3263\u001b[0m \n\u001b[1;32m   3264\u001b[0m \u001b[39mArgs:\u001b[39;00m\n\u001b[0;32m   (...)\u001b[0m\n\u001b[1;32m   3289\u001b[0m \u001b[39m    ValueError: if `summary()` is called before the model is built.\u001b[39;00m\n\u001b[1;32m   3290\u001b[0m \u001b[39m\"\"\"\u001b[39;00m\n\u001b[1;32m   3291\u001b[0m \u001b[39mif\u001b[39;00m \u001b[39mnot\u001b[39;00m \u001b[39mself\u001b[39m\u001b[39m.\u001b[39mbuilt:\n\u001b[0;32m-> 3292\u001b[0m     \u001b[39mraise\u001b[39;00m \u001b[39mValueError\u001b[39;00m(\n\u001b[1;32m   3293\u001b[0m         \u001b[39m\"\u001b[39m\u001b[39mThis model has not yet been built. \u001b[39m\u001b[39m\"\u001b[39m\n\u001b[1;32m   3294\u001b[0m         \u001b[39m\"\u001b[39m\u001b[39mBuild the model first by calling `build()` or by calling \u001b[39m\u001b[39m\"\u001b[39m\n\u001b[1;32m   3295\u001b[0m         \u001b[39m\"\u001b[39m\u001b[39mthe model on a batch of data.\u001b[39m\u001b[39m\"\u001b[39m\n\u001b[1;32m   3296\u001b[0m     )\n\u001b[1;32m   3297\u001b[0m layer_utils\u001b[39m.\u001b[39mprint_summary(\n\u001b[1;32m   3298\u001b[0m     \u001b[39mself\u001b[39m,\n\u001b[1;32m   3299\u001b[0m     line_length\u001b[39m=\u001b[39mline_length,\n\u001b[0;32m   (...)\u001b[0m\n\u001b[1;32m   3304\u001b[0m     layer_range\u001b[39m=\u001b[39mlayer_range,\n\u001b[1;32m   3305\u001b[0m )\n",
      "\u001b[0;31mValueError\u001b[0m: This model has not yet been built. Build the model first by calling `build()` or by calling the model on a batch of data."
     ]
    }
   ],
   "source": [
    "model1 = tuner1.get_best_models(num_models=1)[0]\n",
    "model1.summary()"
   ]
  },
  {
   "cell_type": "code",
   "execution_count": null,
   "metadata": {},
   "outputs": [],
   "source": []
  }
 ],
 "metadata": {
  "kernelspec": {
   "display_name": "Python 3.8.10 64-bit",
   "language": "python",
   "name": "python3"
  },
  "language_info": {
   "codemirror_mode": {
    "name": "ipython",
    "version": 3
   },
   "file_extension": ".py",
   "mimetype": "text/x-python",
   "name": "python",
   "nbconvert_exporter": "python",
   "pygments_lexer": "ipython3",
   "version": "3.8.10"
  },
  "orig_nbformat": 4,
  "vscode": {
   "interpreter": {
    "hash": "e7370f93d1d0cde622a1f8e1c04877d8463912d04d973331ad4851f04de6915a"
   }
  }
 },
 "nbformat": 4,
 "nbformat_minor": 2
}
