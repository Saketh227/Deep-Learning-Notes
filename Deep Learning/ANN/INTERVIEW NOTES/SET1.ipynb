{
 "cells": [
  {
   "cell_type": "markdown",
   "metadata": {},
   "source": [
    "```\n",
    "Q : What is Deep Learning?\n",
    "Q : What is Machine Learning?\n",
    "Q : Why Deep Learning When we have Machine Learning?\n",
    "Q : Why should we not use DL model when the problem can be solved with ML model?\n",
    "\n",
    "Q : What is Perceptron?\n",
    "Q : What is a Neural Network?\n",
    "Q : Does the input layer included when calculating depth of neural network ? if so why?\n",
    "Q : What are weights and biases?\n",
    "Q : what happens when weights are too small or too large when initialised randomly initially?\n",
    "Q : What are various weight initialisation techniques?\n",
    "Q : What is an Activation Function? Why is it needed in neural network and how does it affect the performance of neural network?\n",
    "Q : What are various Activation Functions and write its advantages and disadvantages?\n",
    "Q : Which Activation Functions Should we use and when?\n",
    "Q : What is vanishing Gradient Problem?\n",
    "Q : What is Exploding Gradient Problem?\n",
    "Q : What is Chain of Derivatives?\n",
    "Q : What is concept of Dead Neuron In Neural Networks?\n",
    "Q : What is a loss function and what are the various loss Functions present and explain about each loss function?\n",
    "Q : What is optimizer and what are the different optimizers present and explain about each optimizer?\n",
    "Q : What is Dropouts And How does it avoid overfitting in Neural Networks?\n",
    "Q : What is callback in neural networks?\n",
    "\n",
    "\n",
    "Q : What is Forward Propogation and Backward Propogation and how does they work?\n",
    "Q : What is epoch and iteration? \n",
    "```"
   ]
  },
  {
   "cell_type": "markdown",
   "metadata": {},
   "source": []
  },
  {
   "cell_type": "markdown",
   "metadata": {},
   "source": []
  }
 ],
 "metadata": {
  "kernelspec": {
   "display_name": "Python 3.8.10 64-bit",
   "language": "python",
   "name": "python3"
  },
  "language_info": {
   "name": "python",
   "version": "3.8.10"
  },
  "orig_nbformat": 4,
  "vscode": {
   "interpreter": {
    "hash": "e7370f93d1d0cde622a1f8e1c04877d8463912d04d973331ad4851f04de6915a"
   }
  }
 },
 "nbformat": 4,
 "nbformat_minor": 2
}
